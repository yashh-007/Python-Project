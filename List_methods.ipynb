{
  "nbformat": 4,
  "nbformat_minor": 0,
  "metadata": {
    "colab": {
      "provenance": []
    },
    "kernelspec": {
      "name": "python3",
      "display_name": "Python 3"
    },
    "language_info": {
      "name": "python"
    }
  },
  "cells": [
    {
      "cell_type": "code",
      "execution_count": null,
      "metadata": {
        "id": "7K2cHeJlY4Tu"
      },
      "outputs": [],
      "source": [
        "class CustomList:\n",
        "    def __init__(self):\n",
        "        self.data = []\n",
        "\n",
        "    def append(self, item):\n",
        "        \"\"\"Add an item to the end of the list.\"\"\"\n",
        "        self.data += [item]\n",
        "\n",
        "    def extend(self, items):\n",
        "        \"\"\"Extend the list by appending elements from another iterable.\"\"\"\n",
        "        for item in items:\n",
        "            self.append(item)\n",
        "\n",
        "    def insert(self, index, item):\n",
        "        \"\"\"Insert an item at a specified index.\"\"\"\n",
        "        self.data = self.data[:index] + [item] + self.data[index:]\n",
        "\n",
        "    def remove(self, item):\n",
        "        \"\"\"Remove the first occurrence of an item.\"\"\"\n",
        "        for i in range(len(self.data)):\n",
        "            if self.data[i] == item:\n",
        "                self.data = self.data[:i] + self.data[i+1:]\n",
        "                return\n",
        "        raise ValueError(f\"{item} not found in the list\")\n",
        "\n",
        "    def pop(self, index=-1):\n",
        "        \"\"\"Remove and return the item at the specified index.\"\"\"\n",
        "        if not self.data:\n",
        "            raise IndexError(\"pop from empty list\")\n",
        "        if index < 0:\n",
        "            index += len(self.data)\n",
        "        item = self.data[index]\n",
        "        self.data = self.data[:index] + self.data[index+1:]\n",
        "        return item\n",
        "\n",
        "    def index(self, item):\n",
        "        \"\"\"Return the index of the first occurrence of an item.\"\"\"\n",
        "        for i in range(len(self.data)):\n",
        "            if self.data[i] == item:\n",
        "                return i\n",
        "        raise ValueError(f\"{item} not found in the list\")\n",
        "\n",
        "    def count(self, item):\n",
        "        \"\"\"Return the number of occurrences of an item.\"\"\"\n",
        "        count = 0\n",
        "        for i in self.data:\n",
        "            if i == item:\n",
        "                count += 1\n",
        "        return count\n",
        "\n",
        "    def reverse(self):\n",
        "        \"\"\"Reverse the list in place.\"\"\"\n",
        "        self.data = self.data[::-1]\n",
        "\n",
        "    def sort(self):\n",
        "        \"\"\"Sort the list in ascending order.\"\"\"\n",
        "        for i in range(len(self.data)):\n",
        "            for j in range(len(self.data) - i - 1):\n",
        "                if self.data[j] > self.data[j + 1]:\n",
        "                    self.data[j], self.data[j + 1] = self.data[j + 1], self.data[j]\n",
        "\n",
        "    def __len__(self):\n",
        "        \"\"\"Return the length of the list.\"\"\"\n",
        "        return len(self.data)\n",
        "\n",
        "    def __getitem__(self, index):\n",
        "        \"\"\"Retrieve an item by index.\"\"\"\n",
        "        return self.data[index]\n",
        "\n",
        "    def __setitem__(self, index, value):\n",
        "        \"\"\"Set the value of an item by index.\"\"\"\n",
        "        self.data[index] = value\n",
        "\n",
        "\n",
        "\n",
        "\n",
        "\n"
      ]
    },
    {
      "cell_type": "code",
      "source": [
        "my_list = CustomList()\n"
      ],
      "metadata": {
        "id": "JWQB4FZtY5if"
      },
      "execution_count": null,
      "outputs": []
    },
    {
      "cell_type": "code",
      "source": [
        "my_list.append(10)\n",
        "my_list.append(20)\n",
        "print(my_list.data)  # Output: [10, 20]\n"
      ],
      "metadata": {
        "colab": {
          "base_uri": "https://localhost:8080/"
        },
        "id": "poVz-r4K4wln",
        "outputId": "275aeceb-d1bd-4894-de31-539bda87f045"
      },
      "execution_count": null,
      "outputs": [
        {
          "output_type": "stream",
          "name": "stdout",
          "text": [
            "[10, 20]\n"
          ]
        }
      ]
    },
    {
      "cell_type": "code",
      "source": [
        "my_list.extend([30, 40, 50])\n",
        "print(my_list.data)  # Output: [10, 20, 30, 40, 50]\n"
      ],
      "metadata": {
        "colab": {
          "base_uri": "https://localhost:8080/"
        },
        "id": "YmfoqTLG4xuS",
        "outputId": "ac591aaa-46b8-431a-f5d8-8b51a4f87dfb"
      },
      "execution_count": null,
      "outputs": [
        {
          "output_type": "stream",
          "name": "stdout",
          "text": [
            "[10, 20, 30, 40, 50]\n"
          ]
        }
      ]
    },
    {
      "cell_type": "code",
      "source": [
        "my_list.insert(2, 25)  # Insert 25 at index 2\n",
        "print(my_list.data)    # Output: [10, 20, 25, 30, 40, 50]\n"
      ],
      "metadata": {
        "colab": {
          "base_uri": "https://localhost:8080/"
        },
        "id": "Eje0Vgmp4zVh",
        "outputId": "4eb4a7c8-9c36-446b-cbe1-60e34e95a86e"
      },
      "execution_count": null,
      "outputs": [
        {
          "output_type": "stream",
          "name": "stdout",
          "text": [
            "[10, 20, 25, 30, 40, 50]\n"
          ]
        }
      ]
    },
    {
      "cell_type": "code",
      "source": [
        "my_list.remove(30)     # Removes the first occurrence of 30\n",
        "print(my_list.data)    # Output: [10, 20, 25, 40, 50]\n"
      ],
      "metadata": {
        "colab": {
          "base_uri": "https://localhost:8080/"
        },
        "id": "IXnBS0K740mH",
        "outputId": "35e6ce15-bf3e-40a6-eead-9430d9a17883"
      },
      "execution_count": null,
      "outputs": [
        {
          "output_type": "stream",
          "name": "stdout",
          "text": [
            "[10, 20, 25, 40, 50]\n"
          ]
        }
      ]
    },
    {
      "cell_type": "code",
      "source": [
        "popped_item = my_list.pop()  # Removes and returns the last item\n",
        "print(popped_item)           # Output: 50\n",
        "print(my_list.data)          # Output: [10, 20, 25, 40]\n",
        "\n",
        "popped_item = my_list.pop(1) # Removes and returns the item at index 1\n",
        "print(popped_item)           # Output: 20\n",
        "print(my_list.data)          # Output: [10, 25, 40]\n"
      ],
      "metadata": {
        "colab": {
          "base_uri": "https://localhost:8080/"
        },
        "id": "ah5je58Q417n",
        "outputId": "107d2d8e-aa48-4323-b1dd-99eeaf0f1db3"
      },
      "execution_count": null,
      "outputs": [
        {
          "output_type": "stream",
          "name": "stdout",
          "text": [
            "50\n",
            "[10, 20, 25, 40]\n",
            "20\n",
            "[10, 25, 40]\n"
          ]
        }
      ]
    },
    {
      "cell_type": "code",
      "source": [
        "index = my_list.index(25)\n",
        "print(index)                 # Output: 1\n"
      ],
      "metadata": {
        "colab": {
          "base_uri": "https://localhost:8080/"
        },
        "id": "tVRI7ikW43kX",
        "outputId": "3abbb802-f7e8-4be9-f221-385e30eec6a0"
      },
      "execution_count": null,
      "outputs": [
        {
          "output_type": "stream",
          "name": "stdout",
          "text": [
            "1\n"
          ]
        }
      ]
    },
    {
      "cell_type": "code",
      "source": [
        "my_list.append(25)\n",
        "count = my_list.count(25)\n",
        "print(count)                 # Output: 2\n"
      ],
      "metadata": {
        "colab": {
          "base_uri": "https://localhost:8080/"
        },
        "id": "tLSxRqDR45vG",
        "outputId": "ca729fd5-ce36-4ea5-e4af-a612beb98657"
      },
      "execution_count": null,
      "outputs": [
        {
          "output_type": "stream",
          "name": "stdout",
          "text": [
            "2\n"
          ]
        }
      ]
    },
    {
      "cell_type": "code",
      "source": [
        "my_list.reverse()\n",
        "print(my_list.data)          # Output: [25, 25, 10]\n"
      ],
      "metadata": {
        "colab": {
          "base_uri": "https://localhost:8080/"
        },
        "id": "CRjPJSyk47Wq",
        "outputId": "eb79c9ec-36df-4941-c1aa-57e2946e3af4"
      },
      "execution_count": null,
      "outputs": [
        {
          "output_type": "stream",
          "name": "stdout",
          "text": [
            "[25, 40, 25, 10]\n"
          ]
        }
      ]
    },
    {
      "cell_type": "code",
      "source": [
        "my_list.append(5)\n",
        "my_list.sort()\n",
        "print(my_list.data)          # Output: [5, 10, 25, 25]\n"
      ],
      "metadata": {
        "colab": {
          "base_uri": "https://localhost:8080/"
        },
        "id": "3LoglHh_49V7",
        "outputId": "ffc3a1bd-3dc3-4487-e49e-6c5c66af445c"
      },
      "execution_count": null,
      "outputs": [
        {
          "output_type": "stream",
          "name": "stdout",
          "text": [
            "[5, 10, 25, 25, 40]\n"
          ]
        }
      ]
    },
    {
      "cell_type": "code",
      "source": [
        "print(len(my_list))          # Output: 4\n"
      ],
      "metadata": {
        "colab": {
          "base_uri": "https://localhost:8080/"
        },
        "id": "KtBKw6XP4-dh",
        "outputId": "aa06bfc0-fcfa-4296-d46f-384a9fbba743"
      },
      "execution_count": null,
      "outputs": [
        {
          "output_type": "stream",
          "name": "stdout",
          "text": [
            "5\n"
          ]
        }
      ]
    },
    {
      "cell_type": "code",
      "source": [
        "print(my_list[2])            # Output: 25\n"
      ],
      "metadata": {
        "colab": {
          "base_uri": "https://localhost:8080/"
        },
        "id": "LBuCMS4W5ADj",
        "outputId": "847caba1-62cf-4792-d519-10af9117f338"
      },
      "execution_count": null,
      "outputs": [
        {
          "output_type": "stream",
          "name": "stdout",
          "text": [
            "25\n"
          ]
        }
      ]
    },
    {
      "cell_type": "code",
      "source": [
        "my_list[2] = 15\n",
        "print(my_list.data)          # Output: [5, 10, 15, 25]\n"
      ],
      "metadata": {
        "colab": {
          "base_uri": "https://localhost:8080/"
        },
        "id": "PaXLZNNg5Cdd",
        "outputId": "9812165b-8c83-4105-b130-bed7e2fb85af"
      },
      "execution_count": null,
      "outputs": [
        {
          "output_type": "stream",
          "name": "stdout",
          "text": [
            "[5, 10, 15, 25, 40]\n"
          ]
        }
      ]
    },
    {
      "cell_type": "code",
      "source": [],
      "metadata": {
        "id": "VZME8Z_g5Dvf"
      },
      "execution_count": null,
      "outputs": []
    }
  ]
}